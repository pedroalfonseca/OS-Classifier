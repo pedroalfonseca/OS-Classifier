{
 "cells": [
  {
   "cell_type": "markdown",
   "id": "7cbf2327",
   "metadata": {},
   "source": [
    "# OS Classifier\n",
    "### Pedro Fonseca - October, 2022\n",
    "\n",
    "This webpage contains an application for classifying operating system related images. It was developed as a final project for the \"English for Computer Science\" course taught by Prof. Rafael Nonato at CIn UFPE. The tool uses deep learning techniques based on the official guide of the book [Deep Learning for Coders with Fastai and PyTorch: AI Applications Without a PhD](https://course.fast.ai/Resources/book.html) by Jeremy Howard and Sylvain Gugger."
   ]
  },
  {
   "cell_type": "markdown",
   "id": "3cc9a384",
   "metadata": {},
   "source": [
    "## Usage\n",
    "1. Upload a local image file to be classified by the model by pressing the \"Upload\" button.\n",
    "\n",
    "2. The selected image will be displayed below. A default image is already loaded for test purposes. Sample files: [windows](windows.png), [linux](linux.png), [macos](macos.jpg)\n",
    "\n",
    "3. Press the \"Classify\" button.\n",
    "\n",
    "4. The results are shown at the bottom. The application displays text fields containing the predicted OS label (Windows, Linux, MacOS), and the associated prediction probability."
   ]
  },
  {
   "cell_type": "markdown",
   "id": "b934d900",
   "metadata": {},
   "source": [
    "---"
   ]
  },
  {
   "cell_type": "code",
   "execution_count": null,
   "id": "fcd15a9e",
   "metadata": {},
   "outputs": [],
   "source": [
    "from fastai.learner import load_learner\n",
    "from ipywidgets import widgets\n",
    "from IPython.display import display"
   ]
  },
  {
   "cell_type": "code",
   "execution_count": 2,
   "id": "821d9d86",
   "metadata": {},
   "outputs": [],
   "source": [
    "learner = load_learner(\"export.pkl\")"
   ]
  },
  {
   "cell_type": "code",
   "execution_count": 5,
   "id": "0408eacf",
   "metadata": {},
   "outputs": [],
   "source": [
    "uploader_select = widgets.FileUpload(description=\"Upload image\")\n",
    "uploader_select"
   ]
  },
  {
   "cell_type": "code",
   "execution_count": null,
   "id": "28426768",
   "metadata": {},
   "outputs": [],
   "source": [
    "default_img_file = open(\"linux.png\", \"rb\")\n",
    "pic = widgets.Image(value=default_img_file.read(),  width=500)\n",
    "pic if pic.value else None"
   ]
  },
  {
   "cell_type": "code",
   "execution_count": 10,
   "id": "fd62b545",
   "metadata": {},
   "outputs": [],
   "source": [
    "run_bt = widgets.Button(description='Classify')\n",
    "run_bt"
   ]
  },
  {
   "cell_type": "code",
   "execution_count": 12,
   "id": "310efdea",
   "metadata": {},
   "outputs": [],
   "source": [
    "result_txt = widgets.Text(value='', description=\"Result:\")\n",
    "prob_txt = widgets.Text(value='', description=\"Probability:\")\n",
    "result_hbox= widgets.HBox([result_txt, prob_txt])\n",
    "reselt_hbox"
   ]
  },
  {
   "cell_type": "code",
   "execution_count": 14,
   "id": "2fb2691a",
   "metadata": {},
   "outputs": [],
   "source": [
    "def run_bt_click(source):\n",
    "    result = learner.predict(pic.value)\n",
    "    result_txt.value = result[0]\n",
    "    prob_txt.value = str(round(float(result[2][result[1]]),4))"
   ]
  },
  {
   "cell_type": "code",
   "execution_count": 15,
   "id": "7945f1f9",
   "metadata": {},
   "outputs": [],
   "source": [
    "run_bt.on_click(run_bt_click)"
   ]
  },
  {
   "cell_type": "code",
   "execution_count": 16,
   "id": "1f8e6a43",
   "metadata": {},
   "outputs": [],
   "source": [
    "def upload_select_change(change):\n",
    "    if uploader_select.value:\n",
    "        img_data = uploader_select.value[list(uploader_select.value.keys())[0]]\n",
    "        pic.value = img_data['content']\n",
    "        result_txt.value = \"\"\n",
    "        prob_txt.value = \"\""
   ]
  },
  {
   "cell_type": "code",
   "execution_count": 17,
   "id": "f4725eea",
   "metadata": {},
   "outputs": [],
   "source": [
    "uploader_select.observe(upload_select_change, names=\"metadata\")"
   ]
  },
  {
   "cell_type": "markdown",
   "id": "666f3341",
   "metadata": {},
   "source": [
    "---"
   ]
  }
 ],
 "metadata": {
  "kernelspec": {
   "display_name": "Python 3 (ipykernel)",
   "language": "python",
   "name": "python3"
  },
  "language_info": {
   "codemirror_mode": {
    "name": "ipython",
    "version": 3
   },
   "file_extension": ".py",
   "mimetype": "text/x-python",
   "name": "python",
   "nbconvert_exporter": "python",
   "pygments_lexer": "ipython3",
   "version": "3.9.13"
  }
 },
 "nbformat": 4,
 "nbformat_minor": 5
}
